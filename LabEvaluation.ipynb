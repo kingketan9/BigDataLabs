{
  "cells": [
    {
      "cell_type": "markdown",
      "metadata": {
        "id": "view-in-github",
        "colab_type": "text"
      },
      "source": [
        "<a href=\"https://colab.research.google.com/github/kingketan9/BigDataLabs/blob/main/LabEvaluation.ipynb\" target=\"_parent\"><img src=\"https://colab.research.google.com/assets/colab-badge.svg\" alt=\"Open In Colab\"/></a>"
      ]
    },
    {
      "cell_type": "code",
      "execution_count": null,
      "metadata": {
        "colab": {
          "base_uri": "https://localhost:8080/"
        },
        "id": "WOCO5T_gFhPz",
        "outputId": "ef165f6e-cc9d-476b-e366-8be548cd1a77"
      },
      "outputs": [
        {
          "output_type": "stream",
          "name": "stdout",
          "text": [
            "Collecting pyspark\n",
            "  Downloading pyspark-3.4.1.tar.gz (310.8 MB)\n",
            "\u001b[2K     \u001b[90m━━━━━━━━━━━━━━━━━━━━━━━━━━━━━━━━━━━━━━━\u001b[0m \u001b[32m310.8/310.8 MB\u001b[0m \u001b[31m1.9 MB/s\u001b[0m eta \u001b[36m0:00:00\u001b[0m\n",
            "\u001b[?25h  Preparing metadata (setup.py) ... \u001b[?25l\u001b[?25hdone\n",
            "Requirement already satisfied: py4j==0.10.9.7 in /usr/local/lib/python3.10/dist-packages (from pyspark) (0.10.9.7)\n",
            "Building wheels for collected packages: pyspark\n",
            "  Building wheel for pyspark (setup.py) ... \u001b[?25l\u001b[?25hdone\n",
            "  Created wheel for pyspark: filename=pyspark-3.4.1-py2.py3-none-any.whl size=311285387 sha256=fb79fcb947f2db43e3adc536e78c5122c19fec439f66d62e7fcbcd30dd0bc06c\n",
            "  Stored in directory: /root/.cache/pip/wheels/0d/77/a3/ff2f74cc9ab41f8f594dabf0579c2a7c6de920d584206e0834\n",
            "Successfully built pyspark\n",
            "Installing collected packages: pyspark\n",
            "Successfully installed pyspark-3.4.1\n"
          ]
        }
      ],
      "source": [
        "!pip install pyspark"
      ]
    },
    {
      "cell_type": "code",
      "execution_count": null,
      "metadata": {
        "id": "Ks60XJq2FiEY"
      },
      "outputs": [],
      "source": [
        "from pyspark.sql import SparkSession"
      ]
    },
    {
      "cell_type": "code",
      "execution_count": null,
      "metadata": {
        "id": "__I72MJFFkT0"
      },
      "outputs": [],
      "source": [
        "spark = SparkSession.builder.master(\"local[*]\").getOrCreate()"
      ]
    },
    {
      "cell_type": "code",
      "execution_count": null,
      "metadata": {
        "colab": {
          "base_uri": "https://localhost:8080/",
          "height": 219
        },
        "id": "yI0OQF_WFqfp",
        "outputId": "56f4c818-1029-453f-88f6-0c33cccbb4ed"
      },
      "outputs": [
        {
          "output_type": "execute_result",
          "data": {
            "text/plain": [
              "<pyspark.sql.session.SparkSession at 0x7851cc008940>"
            ],
            "text/html": [
              "\n",
              "            <div>\n",
              "                <p><b>SparkSession - in-memory</b></p>\n",
              "                \n",
              "        <div>\n",
              "            <p><b>SparkContext</b></p>\n",
              "\n",
              "            <p><a href=\"http://23350a82a8df:4040\">Spark UI</a></p>\n",
              "\n",
              "            <dl>\n",
              "              <dt>Version</dt>\n",
              "                <dd><code>v3.4.1</code></dd>\n",
              "              <dt>Master</dt>\n",
              "                <dd><code>local[*]</code></dd>\n",
              "              <dt>AppName</dt>\n",
              "                <dd><code>pyspark-shell</code></dd>\n",
              "            </dl>\n",
              "        </div>\n",
              "        \n",
              "            </div>\n",
              "        "
            ]
          },
          "metadata": {},
          "execution_count": 4
        }
      ],
      "source": [
        "spark"
      ]
    },
    {
      "cell_type": "code",
      "execution_count": null,
      "metadata": {
        "id": "67C8w-MIFuAy"
      },
      "outputs": [],
      "source": [
        "sc = spark.sparkContext"
      ]
    },
    {
      "cell_type": "code",
      "execution_count": 11,
      "metadata": {
        "id": "dEemUY1q7tAp",
        "colab": {
          "base_uri": "https://localhost:8080/"
        },
        "outputId": "5fdd5b90-bfbb-4572-ef24-228297202f5e"
      },
      "outputs": [
        {
          "output_type": "stream",
          "name": "stdout",
          "text": [
            "+-----------+-------+---------+---------+---------+\n",
            "|Customer_id|   Name|Product_1|Product_2|Product_3|\n",
            "+-----------+-------+---------+---------+---------+\n",
            "|          1|  Alice|     2000|     null|     3000|\n",
            "|          3|  Carol|     null|     4000|     null|\n",
            "|          5|   John|     1000|     null|     3000|\n",
            "|          6|Michael|     null|     2000|     3000|\n",
            "+-----------+-------+---------+---------+---------+\n",
            "\n"
          ]
        }
      ],
      "source": [
        "from pyspark.sql import SparkSession\n",
        "from pyspark.sql.types import StructType, StructField, IntegerType, DoubleType, StringType\n",
        "\n",
        "spark = SparkSession.builder.appName(\"CreateDataFrame\").getOrCreate()\n",
        "\n",
        "schema = StructType([\n",
        "    StructField(\"Customer_id\", IntegerType(), True),\n",
        "    StructField(\"Name\", StringType(), True),\n",
        "    StructField(\"Product_1\", IntegerType(), True),\n",
        "    StructField(\"Product_2\", IntegerType(), True),\n",
        "    StructField(\"Product_3\", IntegerType(), True)\n",
        "])\n",
        "\n",
        "data = [\n",
        "    (1, 'Alice', 2000, None, 3000),\n",
        "    (3, 'Carol', None, 4000, None),\n",
        "    (5, 'John', 1000, None, 3000),\n",
        "    (6, 'Michael', None, 2000, 3000),\n",
        "]\n",
        "\n",
        "df = spark.createDataFrame(data, schema=schema)\n",
        "\n",
        "df.show()"
      ]
    },
    {
      "cell_type": "code",
      "source": [
        "from pyspark.sql.functions import mean, when, col\n",
        "\n",
        "from pyspark.sql import SparkSession\n",
        "\n",
        "spark = SparkSession.builder.appName(\"FillNullWithMean\").getOrCreate()\n",
        "\n",
        "mean_values = df.select([mean(col).alias(col) for col in df.columns if col != 'Customer_id' and col != 'Name'])\n",
        "\n",
        "df_filled = df\n",
        "for col in mean_values.columns:\n",
        "    df_filled = df_filled.withColumn(col, when(df_filled[col].isNull(), mean_values.collect()[0][col]).otherwise(df_filled[col]))\n",
        "\n",
        "df_filled.show()"
      ],
      "metadata": {
        "colab": {
          "base_uri": "https://localhost:8080/"
        },
        "id": "H6oqon6-HS6o",
        "outputId": "31b84903-90de-48ca-fcf5-2f103c97deab"
      },
      "execution_count": 12,
      "outputs": [
        {
          "output_type": "stream",
          "name": "stdout",
          "text": [
            "+-----------+-------+---------+---------+---------+\n",
            "|Customer_id|   Name|Product_1|Product_2|Product_3|\n",
            "+-----------+-------+---------+---------+---------+\n",
            "|          1|  Alice|   2000.0|   3000.0|   3000.0|\n",
            "|          3|  Carol|   1500.0|   4000.0|   3000.0|\n",
            "|          5|   John|   1000.0|   3000.0|   3000.0|\n",
            "|          6|Michael|   1500.0|   2000.0|   3000.0|\n",
            "+-----------+-------+---------+---------+---------+\n",
            "\n"
          ]
        }
      ]
    },
    {
      "cell_type": "code",
      "source": [
        "from pyspark.sql.functions import col\n",
        "\n",
        "df_filled = df_filled.withColumn('Total_Purchase', col('Product_1') + col('Product_2') + col('Product_3'))\n",
        "\n",
        "df_sorted = df_filled.orderBy('Total_Purchase', ascending=False)\n",
        "\n",
        "df_sorted.show()"
      ],
      "metadata": {
        "colab": {
          "base_uri": "https://localhost:8080/"
        },
        "id": "Em6d3fTFIUZ-",
        "outputId": "13c8222c-8cf7-4709-c148-373d0bb25ae1"
      },
      "execution_count": 15,
      "outputs": [
        {
          "output_type": "stream",
          "name": "stdout",
          "text": [
            "+-----------+-------+---------+---------+---------+--------------+\n",
            "|Customer_id|   Name|Product_1|Product_2|Product_3|Total_Purchase|\n",
            "+-----------+-------+---------+---------+---------+--------------+\n",
            "|          3|  Carol|   1500.0|   4000.0|   3000.0|        8500.0|\n",
            "|          1|  Alice|   2000.0|   3000.0|   3000.0|        8000.0|\n",
            "|          5|   John|   1000.0|   3000.0|   3000.0|        7000.0|\n",
            "|          6|Michael|   1500.0|   2000.0|   3000.0|        6500.0|\n",
            "+-----------+-------+---------+---------+---------+--------------+\n",
            "\n"
          ]
        }
      ]
    }
  ],
  "metadata": {
    "colab": {
      "provenance": [],
      "include_colab_link": true
    },
    "kernelspec": {
      "display_name": "Python 3",
      "name": "python3"
    },
    "language_info": {
      "name": "python"
    }
  },
  "nbformat": 4,
  "nbformat_minor": 0
}