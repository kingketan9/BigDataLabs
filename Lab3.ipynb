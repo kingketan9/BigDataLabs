{
  "nbformat": 4,
  "nbformat_minor": 0,
  "metadata": {
    "colab": {
      "provenance": [],
      "include_colab_link": true
    },
    "kernelspec": {
      "name": "python3",
      "display_name": "Python 3"
    },
    "language_info": {
      "name": "python"
    }
  },
  "cells": [
    {
      "cell_type": "markdown",
      "metadata": {
        "id": "view-in-github",
        "colab_type": "text"
      },
      "source": [
        "<a href=\"https://colab.research.google.com/github/kingketan9/BigDataLabs/blob/main/Lab3.ipynb\" target=\"_parent\"><img src=\"https://colab.research.google.com/assets/colab-badge.svg\" alt=\"Open In Colab\"/></a>"
      ]
    },
    {
      "cell_type": "code",
      "metadata": {
        "id": "HoXi4rg8vPjg"
      },
      "source": [
        "!apt-get install openjdk-8-jdk-headless -qq > /dev/null ### Installing Java"
      ],
      "execution_count": 1,
      "outputs": []
    },
    {
      "cell_type": "code",
      "metadata": {
        "id": "XJD4fHIRZ4Xd"
      },
      "source": [
        "!wget -q http://archive.apache.org/dist/spark/spark-3.1.1/spark-3.1.1-bin-hadoop3.2.tgz #### Installing Spark and Hadoop on the worker node\n",
        "!tar xf spark-3.1.1-bin-hadoop3.2.tgz\n",
        "!pip install -q findspark\n"
      ],
      "execution_count": 2,
      "outputs": []
    },
    {
      "cell_type": "code",
      "metadata": {
        "colab": {
          "base_uri": "https://localhost:8080/",
          "height": 219
        },
        "id": "C60kOFE-aDbw",
        "outputId": "43c61f01-9310-4f01-99ef-703d7d8455b2"
      },
      "source": [
        "import os\n",
        "os.environ[\"JAVA_HOME\"] = \"/usr/lib/jvm/java-8-openjdk-amd64\"\n",
        "os.environ[\"SPARK_HOME\"] = \"/content/spark-3.1.1-bin-hadoop3.2\"\n",
        "\n",
        "import findspark\n",
        "findspark.init()\n",
        "from pyspark.sql import SparkSession\n",
        "spark = SparkSession.builder.master(\"local[*]\").getOrCreate()\n",
        "spark.conf.set(\"spark.sql.repl.eagerEval.enabled\", True) # Property used to format output tables better\n",
        "spark #### Creating a Sparksession\n"
      ],
      "execution_count": 3,
      "outputs": [
        {
          "output_type": "execute_result",
          "data": {
            "text/plain": [
              "<pyspark.sql.session.SparkSession at 0x7f7194213c70>"
            ],
            "text/html": [
              "\n",
              "            <div>\n",
              "                <p><b>SparkSession - in-memory</b></p>\n",
              "                \n",
              "        <div>\n",
              "            <p><b>SparkContext</b></p>\n",
              "\n",
              "            <p><a href=\"http://a405f83cc755:4040\">Spark UI</a></p>\n",
              "\n",
              "            <dl>\n",
              "              <dt>Version</dt>\n",
              "                <dd><code>v3.1.1</code></dd>\n",
              "              <dt>Master</dt>\n",
              "                <dd><code>local[*]</code></dd>\n",
              "              <dt>AppName</dt>\n",
              "                <dd><code>pyspark-shell</code></dd>\n",
              "            </dl>\n",
              "        </div>\n",
              "        \n",
              "            </div>\n",
              "        "
            ]
          },
          "metadata": {},
          "execution_count": 3
        }
      ]
    },
    {
      "cell_type": "code",
      "source": [
        "!wget https://jacobceles.github.io/knowledge_repo/colab_and_pyspark/cars.csv"
      ],
      "metadata": {
        "colab": {
          "base_uri": "https://localhost:8080/"
        },
        "id": "PetiDFLHGDaX",
        "outputId": "d1062bfc-675c-4490-cf3c-dc8734983ea4"
      },
      "execution_count": 4,
      "outputs": [
        {
          "output_type": "stream",
          "name": "stdout",
          "text": [
            "--2023-08-16 11:08:13--  https://jacobceles.github.io/knowledge_repo/colab_and_pyspark/cars.csv\n",
            "Resolving jacobceles.github.io (jacobceles.github.io)... 185.199.108.153, 185.199.109.153, 185.199.110.153, ...\n",
            "Connecting to jacobceles.github.io (jacobceles.github.io)|185.199.108.153|:443... connected.\n",
            "HTTP request sent, awaiting response... 301 Moved Permanently\n",
            "Location: https://jacobcelestine.com/knowledge_repo/colab_and_pyspark/cars.csv [following]\n",
            "--2023-08-16 11:08:13--  https://jacobcelestine.com/knowledge_repo/colab_and_pyspark/cars.csv\n",
            "Resolving jacobcelestine.com (jacobcelestine.com)... 185.199.108.153, 185.199.109.153, 185.199.110.153, ...\n",
            "Connecting to jacobcelestine.com (jacobcelestine.com)|185.199.108.153|:443... connected.\n",
            "HTTP request sent, awaiting response... 200 OK\n",
            "Length: 22608 (22K) [text/csv]\n",
            "Saving to: ‘cars.csv’\n",
            "\n",
            "cars.csv            100%[===================>]  22.08K  --.-KB/s    in 0.002s  \n",
            "\n",
            "2023-08-16 11:08:13 (9.70 MB/s) - ‘cars.csv’ saved [22608/22608]\n",
            "\n"
          ]
        }
      ]
    },
    {
      "cell_type": "markdown",
      "source": [
        "Load data from csv to a dataframe."
      ],
      "metadata": {
        "id": "89V7qHgO4TJn"
      }
    },
    {
      "cell_type": "code",
      "source": [
        "df = spark.read.csv('cars.csv', header = True, sep = \";\")"
      ],
      "metadata": {
        "id": "LkorMNUJH2-1"
      },
      "execution_count": 5,
      "outputs": []
    },
    {
      "cell_type": "markdown",
      "source": [
        "View top five rows of the dataframe."
      ],
      "metadata": {
        "id": "v8xcVJp54W2M"
      }
    },
    {
      "cell_type": "code",
      "source": [
        "print(\"Top five rows of the dataframe:\")\n",
        "df.show(5)"
      ],
      "metadata": {
        "colab": {
          "base_uri": "https://localhost:8080/"
        },
        "id": "eOekL1di4Wii",
        "outputId": "45fcaf13-ca7e-4a3b-f089-cbaec59c3561"
      },
      "execution_count": 6,
      "outputs": [
        {
          "output_type": "stream",
          "name": "stdout",
          "text": [
            "Top five rows of the dataframe:\n",
            "+--------------------+----+---------+------------+----------+------+------------+-----+------+\n",
            "|                 Car| MPG|Cylinders|Displacement|Horsepower|Weight|Acceleration|Model|Origin|\n",
            "+--------------------+----+---------+------------+----------+------+------------+-----+------+\n",
            "|Chevrolet Chevell...|18.0|        8|       307.0|     130.0| 3504.|        12.0|   70|    US|\n",
            "|   Buick Skylark 320|15.0|        8|       350.0|     165.0| 3693.|        11.5|   70|    US|\n",
            "|  Plymouth Satellite|18.0|        8|       318.0|     150.0| 3436.|        11.0|   70|    US|\n",
            "|       AMC Rebel SST|16.0|        8|       304.0|     150.0| 3433.|        12.0|   70|    US|\n",
            "|         Ford Torino|17.0|        8|       302.0|     140.0| 3449.|        10.5|   70|    US|\n",
            "+--------------------+----+---------+------------+----------+------+------------+-----+------+\n",
            "only showing top 5 rows\n",
            "\n"
          ]
        }
      ]
    },
    {
      "cell_type": "markdown",
      "source": [
        "Print schema of the dataframe."
      ],
      "metadata": {
        "id": "-kK8Y13G4Y1b"
      }
    },
    {
      "cell_type": "code",
      "source": [
        "print(\"Schema of the dataframe:\")\n",
        "df.printSchema()"
      ],
      "metadata": {
        "id": "sauuIMsnIBoz",
        "colab": {
          "base_uri": "https://localhost:8080/"
        },
        "outputId": "485cf3eb-0671-48a2-d5db-23606af758f4"
      },
      "execution_count": 7,
      "outputs": [
        {
          "output_type": "stream",
          "name": "stdout",
          "text": [
            "Schema of the dataframe:\n",
            "root\n",
            " |-- Car: string (nullable = true)\n",
            " |-- MPG: string (nullable = true)\n",
            " |-- Cylinders: string (nullable = true)\n",
            " |-- Displacement: string (nullable = true)\n",
            " |-- Horsepower: string (nullable = true)\n",
            " |-- Weight: string (nullable = true)\n",
            " |-- Acceleration: string (nullable = true)\n",
            " |-- Model: string (nullable = true)\n",
            " |-- Origin: string (nullable = true)\n",
            "\n"
          ]
        }
      ]
    },
    {
      "cell_type": "markdown",
      "source": [
        "Print the column \"Car\""
      ],
      "metadata": {
        "id": "8A9RyVgU4beA"
      }
    },
    {
      "cell_type": "code",
      "source": [
        "print(\"Column 'Car':\")\n",
        "df.select(\"Car\").show()"
      ],
      "metadata": {
        "id": "hUFOaxD9II40",
        "colab": {
          "base_uri": "https://localhost:8080/"
        },
        "outputId": "e3101075-8aad-4a2f-eb38-0c265eecb681"
      },
      "execution_count": 8,
      "outputs": [
        {
          "output_type": "stream",
          "name": "stdout",
          "text": [
            "Column 'Car':\n",
            "+--------------------+\n",
            "|                 Car|\n",
            "+--------------------+\n",
            "|Chevrolet Chevell...|\n",
            "|   Buick Skylark 320|\n",
            "|  Plymouth Satellite|\n",
            "|       AMC Rebel SST|\n",
            "|         Ford Torino|\n",
            "|    Ford Galaxie 500|\n",
            "|    Chevrolet Impala|\n",
            "|   Plymouth Fury iii|\n",
            "|    Pontiac Catalina|\n",
            "|  AMC Ambassador DPL|\n",
            "|Citroen DS-21 Pallas|\n",
            "|Chevrolet Chevell...|\n",
            "|    Ford Torino (sw)|\n",
            "|Plymouth Satellit...|\n",
            "|  AMC Rebel SST (sw)|\n",
            "| Dodge Challenger SE|\n",
            "|  Plymouth 'Cuda 340|\n",
            "|Ford Mustang Boss...|\n",
            "|Chevrolet Monte C...|\n",
            "|Buick Estate Wago...|\n",
            "+--------------------+\n",
            "only showing top 20 rows\n",
            "\n"
          ]
        }
      ]
    },
    {
      "cell_type": "markdown",
      "source": [
        "Print multiple columns \"Car\" and \"Cylinders\""
      ],
      "metadata": {
        "id": "JzZcRDRm4dnk"
      }
    },
    {
      "cell_type": "code",
      "source": [
        "print(\"Columns 'Car' and 'Cylinders':\")\n",
        "df.select(\"Car\", \"Cylinders\").show()"
      ],
      "metadata": {
        "id": "sOtqF1W-IODr",
        "colab": {
          "base_uri": "https://localhost:8080/"
        },
        "outputId": "e8b0a003-6a44-4b86-945b-93c43ab4203a"
      },
      "execution_count": 9,
      "outputs": [
        {
          "output_type": "stream",
          "name": "stdout",
          "text": [
            "Columns 'Car' and 'Cylinders':\n",
            "+--------------------+---------+\n",
            "|                 Car|Cylinders|\n",
            "+--------------------+---------+\n",
            "|Chevrolet Chevell...|        8|\n",
            "|   Buick Skylark 320|        8|\n",
            "|  Plymouth Satellite|        8|\n",
            "|       AMC Rebel SST|        8|\n",
            "|         Ford Torino|        8|\n",
            "|    Ford Galaxie 500|        8|\n",
            "|    Chevrolet Impala|        8|\n",
            "|   Plymouth Fury iii|        8|\n",
            "|    Pontiac Catalina|        8|\n",
            "|  AMC Ambassador DPL|        8|\n",
            "|Citroen DS-21 Pallas|        4|\n",
            "|Chevrolet Chevell...|        8|\n",
            "|    Ford Torino (sw)|        8|\n",
            "|Plymouth Satellit...|        8|\n",
            "|  AMC Rebel SST (sw)|        8|\n",
            "| Dodge Challenger SE|        8|\n",
            "|  Plymouth 'Cuda 340|        8|\n",
            "|Ford Mustang Boss...|        8|\n",
            "|Chevrolet Monte C...|        8|\n",
            "|Buick Estate Wago...|        8|\n",
            "+--------------------+---------+\n",
            "only showing top 20 rows\n",
            "\n"
          ]
        }
      ]
    },
    {
      "cell_type": "markdown",
      "source": [
        "Add a new column having all values \"1\" to the dataframe"
      ],
      "metadata": {
        "id": "rXu42UIy4hf4"
      }
    },
    {
      "cell_type": "code",
      "source": [
        "from pyspark.sql.functions import lit\n",
        "\n",
        "df = df.withColumn(\"New_Column\", lit(1))"
      ],
      "metadata": {
        "id": "hABWyVMyIV-b"
      },
      "execution_count": 10,
      "outputs": []
    },
    {
      "cell_type": "markdown",
      "source": [
        "Add 3 columns with values of your choice"
      ],
      "metadata": {
        "id": "KpHaBK9R4mBX"
      }
    },
    {
      "cell_type": "code",
      "source": [
        "print(\"Top five rows of the updated dataframe:\")\n",
        "df.show(5)"
      ],
      "metadata": {
        "id": "OlIVJmNaIfCq",
        "colab": {
          "base_uri": "https://localhost:8080/"
        },
        "outputId": "e26c5879-d67c-4784-a593-2a2bf1e57f6a"
      },
      "execution_count": 11,
      "outputs": [
        {
          "output_type": "stream",
          "name": "stdout",
          "text": [
            "Top five rows of the updated dataframe:\n",
            "+--------------------+----+---------+------------+----------+------+------------+-----+------+----------+\n",
            "|                 Car| MPG|Cylinders|Displacement|Horsepower|Weight|Acceleration|Model|Origin|New_Column|\n",
            "+--------------------+----+---------+------------+----------+------+------------+-----+------+----------+\n",
            "|Chevrolet Chevell...|18.0|        8|       307.0|     130.0| 3504.|        12.0|   70|    US|         1|\n",
            "|   Buick Skylark 320|15.0|        8|       350.0|     165.0| 3693.|        11.5|   70|    US|         1|\n",
            "|  Plymouth Satellite|18.0|        8|       318.0|     150.0| 3436.|        11.0|   70|    US|         1|\n",
            "|       AMC Rebel SST|16.0|        8|       304.0|     150.0| 3433.|        12.0|   70|    US|         1|\n",
            "|         Ford Torino|17.0|        8|       302.0|     140.0| 3449.|        10.5|   70|    US|         1|\n",
            "+--------------------+----+---------+------------+----------+------+------------+-----+------+----------+\n",
            "only showing top 5 rows\n",
            "\n"
          ]
        }
      ]
    },
    {
      "cell_type": "markdown",
      "source": [
        "Create a new column \"car_model\" by concatenating \"car\" and \"model\" column"
      ],
      "metadata": {
        "id": "g2fleCyw4s-r"
      }
    },
    {
      "cell_type": "code",
      "source": [
        "print(\"Top five rows of the updated dataframe with 'car_model' column:\")\n",
        "df.show(5)"
      ],
      "metadata": {
        "id": "xNWLlYy5I-cM",
        "colab": {
          "base_uri": "https://localhost:8080/"
        },
        "outputId": "5374ba49-2148-4edb-d14c-e5270cacc9af"
      },
      "execution_count": 12,
      "outputs": [
        {
          "output_type": "stream",
          "name": "stdout",
          "text": [
            "Top five rows of the updated dataframe with 'car_model' column:\n",
            "+--------------------+----+---------+------------+----------+------+------------+-----+------+----------+\n",
            "|                 Car| MPG|Cylinders|Displacement|Horsepower|Weight|Acceleration|Model|Origin|New_Column|\n",
            "+--------------------+----+---------+------------+----------+------+------------+-----+------+----------+\n",
            "|Chevrolet Chevell...|18.0|        8|       307.0|     130.0| 3504.|        12.0|   70|    US|         1|\n",
            "|   Buick Skylark 320|15.0|        8|       350.0|     165.0| 3693.|        11.5|   70|    US|         1|\n",
            "|  Plymouth Satellite|18.0|        8|       318.0|     150.0| 3436.|        11.0|   70|    US|         1|\n",
            "|       AMC Rebel SST|16.0|        8|       304.0|     150.0| 3433.|        12.0|   70|    US|         1|\n",
            "|         Ford Torino|17.0|        8|       302.0|     140.0| 3449.|        10.5|   70|    US|         1|\n",
            "+--------------------+----+---------+------------+----------+------+------------+-----+------+----------+\n",
            "only showing top 5 rows\n",
            "\n"
          ]
        }
      ]
    },
    {
      "cell_type": "markdown",
      "source": [
        "Rename a column of your choice"
      ],
      "metadata": {
        "id": "Wtfd9Y5o4vJ7"
      }
    },
    {
      "cell_type": "code",
      "source": [
        "df = df.withColumnRenamed(\"mpg\", \"Miles_per_Gallon\")\n",
        "\n",
        "print(\"Top five rows of the updated dataframe with renamed column:\")\n",
        "df.show(5)"
      ],
      "metadata": {
        "id": "k2QCTVkCJEmC",
        "colab": {
          "base_uri": "https://localhost:8080/"
        },
        "outputId": "0e0a9a03-3429-476c-bac4-b457a74b9557"
      },
      "execution_count": 13,
      "outputs": [
        {
          "output_type": "stream",
          "name": "stdout",
          "text": [
            "Top five rows of the updated dataframe with renamed column:\n",
            "+--------------------+----------------+---------+------------+----------+------+------------+-----+------+----------+\n",
            "|                 Car|Miles_per_Gallon|Cylinders|Displacement|Horsepower|Weight|Acceleration|Model|Origin|New_Column|\n",
            "+--------------------+----------------+---------+------------+----------+------+------------+-----+------+----------+\n",
            "|Chevrolet Chevell...|            18.0|        8|       307.0|     130.0| 3504.|        12.0|   70|    US|         1|\n",
            "|   Buick Skylark 320|            15.0|        8|       350.0|     165.0| 3693.|        11.5|   70|    US|         1|\n",
            "|  Plymouth Satellite|            18.0|        8|       318.0|     150.0| 3436.|        11.0|   70|    US|         1|\n",
            "|       AMC Rebel SST|            16.0|        8|       304.0|     150.0| 3433.|        12.0|   70|    US|         1|\n",
            "|         Ford Torino|            17.0|        8|       302.0|     140.0| 3449.|        10.5|   70|    US|         1|\n",
            "+--------------------+----------------+---------+------------+----------+------+------------+-----+------+----------+\n",
            "only showing top 5 rows\n",
            "\n"
          ]
        }
      ]
    },
    {
      "cell_type": "markdown",
      "source": [
        "Drop a column of your choice"
      ],
      "metadata": {
        "id": "_YTPxZu04wiy"
      }
    },
    {
      "cell_type": "code",
      "source": [
        "df = df.drop(\"New_Column\")\n",
        "\n",
        "print(\"Top five rows of the updated dataframe with dropped column:\")\n",
        "df.show(5)"
      ],
      "metadata": {
        "colab": {
          "base_uri": "https://localhost:8080/"
        },
        "id": "n1ASGnJl-dmZ",
        "outputId": "da2144e7-b564-400e-a0f4-e9b3e9fcd638"
      },
      "execution_count": 14,
      "outputs": [
        {
          "output_type": "stream",
          "name": "stdout",
          "text": [
            "Top five rows of the updated dataframe with dropped column:\n",
            "+--------------------+----------------+---------+------------+----------+------+------------+-----+------+\n",
            "|                 Car|Miles_per_Gallon|Cylinders|Displacement|Horsepower|Weight|Acceleration|Model|Origin|\n",
            "+--------------------+----------------+---------+------------+----------+------+------------+-----+------+\n",
            "|Chevrolet Chevell...|            18.0|        8|       307.0|     130.0| 3504.|        12.0|   70|    US|\n",
            "|   Buick Skylark 320|            15.0|        8|       350.0|     165.0| 3693.|        11.5|   70|    US|\n",
            "|  Plymouth Satellite|            18.0|        8|       318.0|     150.0| 3436.|        11.0|   70|    US|\n",
            "|       AMC Rebel SST|            16.0|        8|       304.0|     150.0| 3433.|        12.0|   70|    US|\n",
            "|         Ford Torino|            17.0|        8|       302.0|     140.0| 3449.|        10.5|   70|    US|\n",
            "+--------------------+----------------+---------+------------+----------+------+------------+-----+------+\n",
            "only showing top 5 rows\n",
            "\n"
          ]
        }
      ]
    },
    {
      "cell_type": "markdown",
      "source": [
        "Groupby the column \"Origin\""
      ],
      "metadata": {
        "id": "JCqKQLkW4yhx"
      }
    },
    {
      "cell_type": "code",
      "source": [
        "df.groupBy('Origin').count().show(5)"
      ],
      "metadata": {
        "id": "bgREQHf0Jgi7",
        "colab": {
          "base_uri": "https://localhost:8080/"
        },
        "outputId": "cff43b5e-69a5-4010-d892-25b9a565acd0"
      },
      "execution_count": 15,
      "outputs": [
        {
          "output_type": "stream",
          "name": "stdout",
          "text": [
            "+------+-----+\n",
            "|Origin|count|\n",
            "+------+-----+\n",
            "|Europe|   73|\n",
            "|    US|  254|\n",
            "| Japan|   79|\n",
            "+------+-----+\n",
            "\n"
          ]
        }
      ]
    },
    {
      "cell_type": "markdown",
      "source": [
        "groupby multiple columns \"Origin\" and \"model\""
      ],
      "metadata": {
        "id": "hUdMgx86465O"
      }
    },
    {
      "cell_type": "code",
      "source": [
        "df.groupBy('Origin', 'Model').count().show(5)"
      ],
      "metadata": {
        "id": "iNs24EzkJk64",
        "colab": {
          "base_uri": "https://localhost:8080/"
        },
        "outputId": "58f16ee3-617c-4f2d-adc2-69968a92eee0"
      },
      "execution_count": 16,
      "outputs": [
        {
          "output_type": "stream",
          "name": "stdout",
          "text": [
            "+------+-----+-----+\n",
            "|Origin|Model|count|\n",
            "+------+-----+-----+\n",
            "| Japan|   76|    4|\n",
            "|    US|   81|   13|\n",
            "|    US|   80|    7|\n",
            "|    US|   76|   22|\n",
            "| Japan|   70|    2|\n",
            "+------+-----+-----+\n",
            "only showing top 5 rows\n",
            "\n"
          ]
        }
      ]
    },
    {
      "cell_type": "markdown",
      "source": [
        "Filter rows where Origin = Europe"
      ],
      "metadata": {
        "id": "Pcht2Jzg48oi"
      }
    },
    {
      "cell_type": "code",
      "source": [
        "df_europe = df.filter(df[\"Origin\"] == \"Europe\")\n",
        "\n",
        "print(\"Rows where Origin = Europe:\")\n",
        "df_europe.show()"
      ],
      "metadata": {
        "id": "svxGy4KVJsBf",
        "colab": {
          "base_uri": "https://localhost:8080/"
        },
        "outputId": "65d7a5a2-dde3-4d02-97e6-13e8d977926b"
      },
      "execution_count": 17,
      "outputs": [
        {
          "output_type": "stream",
          "name": "stdout",
          "text": [
            "Rows where Origin = Europe:\n",
            "+--------------------+----------------+---------+------------+----------+------+------------+-----+------+\n",
            "|                 Car|Miles_per_Gallon|Cylinders|Displacement|Horsepower|Weight|Acceleration|Model|Origin|\n",
            "+--------------------+----------------+---------+------------+----------+------+------------+-----+------+\n",
            "|Citroen DS-21 Pallas|               0|        4|       133.0|     115.0| 3090.|        17.5|   70|Europe|\n",
            "|Volkswagen 1131 D...|            26.0|        4|       97.00|     46.00| 1835.|        20.5|   70|Europe|\n",
            "|         Peugeot 504|            25.0|        4|       110.0|     87.00| 2672.|        17.5|   70|Europe|\n",
            "|         Audi 100 LS|            24.0|        4|       107.0|     90.00| 2430.|        14.5|   70|Europe|\n",
            "|            Saab 99e|            25.0|        4|       104.0|     95.00| 2375.|        17.5|   70|Europe|\n",
            "|            BMW 2002|            26.0|        4|       121.0|     113.0| 2234.|        12.5|   70|Europe|\n",
            "|Volkswagen Super ...|               0|        4|       97.00|     48.00| 1978.|        20.0|   71|Europe|\n",
            "|           Opel 1900|            28.0|        4|       116.0|     90.00| 2123.|        14.0|   71|Europe|\n",
            "|         Peugeot 304|            30.0|        4|       79.00|     70.00| 2074.|        19.5|   71|Europe|\n",
            "|           Fiat 124B|            30.0|        4|       88.00|     76.00| 2065.|        14.5|   71|Europe|\n",
            "|Volkswagen Model 111|            27.0|        4|       97.00|     60.00| 1834.|        19.0|   71|Europe|\n",
            "|   Volkswagen Type 3|            23.0|        4|       97.00|     54.00| 2254.|        23.5|   72|Europe|\n",
            "|     Volvo 145e (sw)|            18.0|        4|       121.0|     112.0| 2933.|        14.5|   72|Europe|\n",
            "| Volkswagen 411 (sw)|            22.0|        4|       121.0|     76.00| 2511.|        18.0|   72|Europe|\n",
            "|    Peugeot 504 (sw)|            21.0|        4|       120.0|     87.00| 2979.|        19.5|   72|Europe|\n",
            "|     Renault 12 (sw)|            26.0|        4|       96.00|     69.00| 2189.|        18.0|   72|Europe|\n",
            "|Volkswagen Super ...|            26.0|        4|       97.00|     46.00| 1950.|        21.0|   73|Europe|\n",
            "|Fiat 124 Sport Coupe|            26.0|        4|       98.00|     90.00| 2265.|        15.5|   73|Europe|\n",
            "|            Fiat 128|            29.0|        4|       68.00|     49.00| 1867.|        19.5|   73|Europe|\n",
            "|          Opel Manta|            24.0|        4|       116.0|     75.00| 2158.|        15.5|   73|Europe|\n",
            "+--------------------+----------------+---------+------------+----------+------+------------+-----+------+\n",
            "only showing top 20 rows\n",
            "\n"
          ]
        }
      ]
    },
    {
      "cell_type": "markdown",
      "source": [
        "Filter rows where Origin = Europe and Cylinders = 4"
      ],
      "metadata": {
        "id": "QbvzlTJj4-tl"
      }
    },
    {
      "cell_type": "code",
      "source": [
        "df_europe_cylinders_4 = df_europe.filter(df_europe[\"Cylinders\"] == 4)\n",
        "\n",
        "print(\"Rows where Origin = Europe and Cylinders = 4:\")\n",
        "df_europe_cylinders_4.show()"
      ],
      "metadata": {
        "id": "G6nPie4PJ2Wk",
        "colab": {
          "base_uri": "https://localhost:8080/"
        },
        "outputId": "6daec24a-b5fa-4c52-8502-89630e3f8a06"
      },
      "execution_count": 18,
      "outputs": [
        {
          "output_type": "stream",
          "name": "stdout",
          "text": [
            "Rows where Origin = Europe and Cylinders = 4:\n",
            "+--------------------+----------------+---------+------------+----------+------+------------+-----+------+\n",
            "|                 Car|Miles_per_Gallon|Cylinders|Displacement|Horsepower|Weight|Acceleration|Model|Origin|\n",
            "+--------------------+----------------+---------+------------+----------+------+------------+-----+------+\n",
            "|Citroen DS-21 Pallas|               0|        4|       133.0|     115.0| 3090.|        17.5|   70|Europe|\n",
            "|Volkswagen 1131 D...|            26.0|        4|       97.00|     46.00| 1835.|        20.5|   70|Europe|\n",
            "|         Peugeot 504|            25.0|        4|       110.0|     87.00| 2672.|        17.5|   70|Europe|\n",
            "|         Audi 100 LS|            24.0|        4|       107.0|     90.00| 2430.|        14.5|   70|Europe|\n",
            "|            Saab 99e|            25.0|        4|       104.0|     95.00| 2375.|        17.5|   70|Europe|\n",
            "|            BMW 2002|            26.0|        4|       121.0|     113.0| 2234.|        12.5|   70|Europe|\n",
            "|Volkswagen Super ...|               0|        4|       97.00|     48.00| 1978.|        20.0|   71|Europe|\n",
            "|           Opel 1900|            28.0|        4|       116.0|     90.00| 2123.|        14.0|   71|Europe|\n",
            "|         Peugeot 304|            30.0|        4|       79.00|     70.00| 2074.|        19.5|   71|Europe|\n",
            "|           Fiat 124B|            30.0|        4|       88.00|     76.00| 2065.|        14.5|   71|Europe|\n",
            "|Volkswagen Model 111|            27.0|        4|       97.00|     60.00| 1834.|        19.0|   71|Europe|\n",
            "|   Volkswagen Type 3|            23.0|        4|       97.00|     54.00| 2254.|        23.5|   72|Europe|\n",
            "|     Volvo 145e (sw)|            18.0|        4|       121.0|     112.0| 2933.|        14.5|   72|Europe|\n",
            "| Volkswagen 411 (sw)|            22.0|        4|       121.0|     76.00| 2511.|        18.0|   72|Europe|\n",
            "|    Peugeot 504 (sw)|            21.0|        4|       120.0|     87.00| 2979.|        19.5|   72|Europe|\n",
            "|     Renault 12 (sw)|            26.0|        4|       96.00|     69.00| 2189.|        18.0|   72|Europe|\n",
            "|Volkswagen Super ...|            26.0|        4|       97.00|     46.00| 1950.|        21.0|   73|Europe|\n",
            "|Fiat 124 Sport Coupe|            26.0|        4|       98.00|     90.00| 2265.|        15.5|   73|Europe|\n",
            "|            Fiat 128|            29.0|        4|       68.00|     49.00| 1867.|        19.5|   73|Europe|\n",
            "|          Opel Manta|            24.0|        4|       116.0|     75.00| 2158.|        15.5|   73|Europe|\n",
            "+--------------------+----------------+---------+------------+----------+------+------------+-----+------+\n",
            "only showing top 20 rows\n",
            "\n"
          ]
        }
      ]
    },
    {
      "cell_type": "markdown",
      "source": [
        "Sort rows according to \"Cylinders\""
      ],
      "metadata": {
        "id": "jIeLAqdB5AlL"
      }
    },
    {
      "cell_type": "code",
      "source": [
        "df_sorted = df.sort(\"Cylinders\")\n",
        "\n",
        "print(\"Rows sorted by 'Cylinders':\")\n",
        "df_sorted.show()"
      ],
      "metadata": {
        "id": "uXVEWl6AJ_3c",
        "colab": {
          "base_uri": "https://localhost:8080/"
        },
        "outputId": "3bd11739-8a42-4b9a-d108-4dfad89d9c52"
      },
      "execution_count": 19,
      "outputs": [
        {
          "output_type": "stream",
          "name": "stdout",
          "text": [
            "Rows sorted by 'Cylinders':\n",
            "+--------------------+----------------+---------+------------+----------+------+------------+-----+------+\n",
            "|                 Car|Miles_per_Gallon|Cylinders|Displacement|Horsepower|Weight|Acceleration|Model|Origin|\n",
            "+--------------------+----------------+---------+------------+----------+------+------------+-----+------+\n",
            "|          Mazda RX-4|            21.5|        3|       80.00|     110.0| 2720.|        13.5|   77| Japan|\n",
            "|       Mazda RX-7 GS|            23.7|        3|       70.00|     100.0| 2420.|        12.5|   80| Japan|\n",
            "|     Mazda RX2 Coupe|            19.0|        3|       70.00|     97.00| 2330.|        13.5|   72| Japan|\n",
            "|           Mazda RX3|            18.0|        3|       70.00|     90.00| 2124.|        13.5|   73| Japan|\n",
            "|     Datsun 510 (sw)|            28.0|        4|       97.00|     92.00| 2288.|        17.0|   72| Japan|\n",
            "|           Opel 1900|            28.0|        4|       116.0|     90.00| 2123.|        14.0|   71|Europe|\n",
            "|  Mercury Capri 2000|            23.0|        4|       122.0|     86.00| 2220.|        14.0|   71|    US|\n",
            "|Volkswagen 1131 D...|            26.0|        4|       97.00|     46.00| 1835.|        20.5|   70|Europe|\n",
            "|         Peugeot 304|            30.0|        4|       79.00|     70.00| 2074.|        19.5|   71|Europe|\n",
            "|           Fiat 124B|            30.0|        4|       88.00|     76.00| 2065.|        14.5|   71|Europe|\n",
            "| Chevrolet Vega (sw)|            22.0|        4|       140.0|     72.00| 2408.|        19.0|   71|    US|\n",
            "|         Datsun 1200|            35.0|        4|       72.00|     69.00| 1613.|        18.0|   71| Japan|\n",
            "|Volkswagen Model 111|            27.0|        4|       97.00|     60.00| 1834.|        19.0|   71|Europe|\n",
            "|   Volkswagen Type 3|            23.0|        4|       97.00|     54.00| 2254.|        23.5|   72|Europe|\n",
            "|         Audi 100 LS|            24.0|        4|       107.0|     90.00| 2430.|        14.5|   70|Europe|\n",
            "|            BMW 2002|            26.0|        4|       121.0|     113.0| 2234.|        12.5|   70|Europe|\n",
            "| Toyota Corolla 1200|            31.0|        4|       71.00|     65.00| 1773.|        19.0|   71| Japan|\n",
            "| Chevrolet Vega 2300|            28.0|        4|       140.0|     90.00| 2264.|        15.5|   71|    US|\n",
            "|          Ford Pinto|            25.0|        4|       98.00|         0| 2046.|        19.0|   71|    US|\n",
            "|  Dodge Colt Hardtop|            25.0|        4|       97.50|     80.00| 2126.|        17.0|   72|    US|\n",
            "+--------------------+----------------+---------+------------+----------+------+------------+-----+------+\n",
            "only showing top 20 rows\n",
            "\n"
          ]
        }
      ]
    }
  ]
}