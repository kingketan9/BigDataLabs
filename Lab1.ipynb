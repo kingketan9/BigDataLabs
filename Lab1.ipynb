{
  "nbformat": 4,
  "nbformat_minor": 0,
  "metadata": {
    "colab": {
      "provenance": [],
      "include_colab_link": true
    },
    "kernelspec": {
      "name": "python3",
      "display_name": "Python 3"
    },
    "language_info": {
      "name": "python"
    }
  },
  "cells": [
    {
      "cell_type": "markdown",
      "metadata": {
        "id": "view-in-github",
        "colab_type": "text"
      },
      "source": [
        "<a href=\"https://colab.research.google.com/github/kingketan9/BigDataLabs/blob/main/Lab1.ipynb\" target=\"_parent\"><img src=\"https://colab.research.google.com/assets/colab-badge.svg\" alt=\"Open In Colab\"/></a>"
      ]
    },
    {
      "cell_type": "markdown",
      "source": [
        "User\n",
        " Experiment 1: Aim: To find the importance of a particular word in a Corpus by computing its TF-IDF (Term Frequency - Inverse Document Frequency)\n",
        " Tools to be used: MapReduce Framework\n",
        "\n",
        "\n",
        " Step 1: Define the following data: data=[(1,'i love dogs'),(2,\"i hate dogs and knitting\"),(3,\"knitting is my hobby and my passion\")]\n",
        " Here, the key is the document ID and the value denotes the document text\n",
        " So, in total, we have three documents\n",
        "\n",
        " Step 2: Define Phase I Mapper and Reducer\n",
        " Mapper 1: From the above data generate the following key-value pair\n",
        " (<word, document ID> <1>)\n",
        " Reducer 1: By taking Mapper 1 output, generate the following key-value pair\n",
        " <word, document ID> <word count in same document>\n",
        "\n",
        "\n",
        " Step 3: Define Phase II Mapper and Reducer\n",
        " Mapper 2: From the output of Reducer 1, generate the following key-value pair\n",
        " (<word> <document ID, word count in same document, 1>\n",
        " Reducer 2: Finally, the desired output should be the following\n",
        " (<word> <document ID, TF IDF>\n",
        "\n",
        " Formula to compute TF IDF\n",
        " t_ij = w_ij * log(N/d_ij)\n",
        " Here the TF IDF for word i is t_ij\n",
        " w_ij is the word count of word i in document j\n",
        " N is the total number of documents\n",
        " d_ij is the number of documents in which word i occurs"
      ],
      "metadata": {
        "id": "LAkIt5mHxLf6"
      }
    },
    {
      "cell_type": "code",
      "source": [
        "import math\n",
        "from collections import defaultdict"
      ],
      "metadata": {
        "id": "A9Qyw_jE0dJ4"
      },
      "execution_count": 24,
      "outputs": []
    },
    {
      "cell_type": "markdown",
      "source": [
        "# Step 1: Define the data"
      ],
      "metadata": {
        "id": "zXPHcH17xYnL"
      }
    },
    {
      "cell_type": "code",
      "source": [
        "data = [\n",
        "    (1, 'i love dogs'),\n",
        "    (2, 'i hate dogs and knitting'),\n",
        "    (3, 'knitting is my hobby and my passion')\n",
        "]"
      ],
      "metadata": {
        "id": "kIUje15-xeih"
      },
      "execution_count": 25,
      "outputs": []
    },
    {
      "cell_type": "markdown",
      "source": [
        "#Step 2: Phase I Mapper and Reducer"
      ],
      "metadata": {
        "id": "tVkPpTjOxhbT"
      }
    },
    {
      "cell_type": "markdown",
      "source": [
        "Mapper 1:"
      ],
      "metadata": {
        "id": "-AjLG27Oxk-W"
      }
    },
    {
      "cell_type": "code",
      "source": [
        "def mapper1(data):\n",
        "    word_doc_counts = defaultdict(int)\n",
        "    for doc_id, text in data:\n",
        "        words = text.split()\n",
        "        for word in words:\n",
        "            word_doc_counts[(word, doc_id)] += 1\n",
        "    return word_doc_counts"
      ],
      "metadata": {
        "id": "P-MOwuuRxkqd"
      },
      "execution_count": 26,
      "outputs": []
    },
    {
      "cell_type": "markdown",
      "source": [
        "Reducer 1:"
      ],
      "metadata": {
        "id": "PH_qveUaxwhY"
      }
    },
    {
      "cell_type": "code",
      "source": [
        "def reducer1(word_doc_counts):\n",
        "    word_doc_freq = defaultdict(list)\n",
        "    for (word, doc_id), count in word_doc_counts.items():\n",
        "        word_doc_freq[word].append((doc_id, count))\n",
        "    return word_doc_freq"
      ],
      "metadata": {
        "id": "w0dIMYwPxf1d"
      },
      "execution_count": 27,
      "outputs": []
    },
    {
      "cell_type": "markdown",
      "source": [
        "#Step 3: Phase II Mapper and Reducer"
      ],
      "metadata": {
        "id": "nD7O0OaCx47E"
      }
    },
    {
      "cell_type": "markdown",
      "source": [
        "Mapper 2:"
      ],
      "metadata": {
        "id": "dvkrCs3ox-kL"
      }
    },
    {
      "cell_type": "code",
      "source": [
        "def mapper2(word_doc_freq):\n",
        "    doc_word_counts = defaultdict(int)\n",
        "    for word, doc_counts in word_doc_freq.items():\n",
        "        for doc_id, count in doc_counts:\n",
        "            doc_word_counts[doc_id] += count\n",
        "    return doc_word_counts"
      ],
      "metadata": {
        "id": "UBKpA-Cmx-PV"
      },
      "execution_count": 28,
      "outputs": []
    },
    {
      "cell_type": "markdown",
      "source": [
        "Reducer 2:"
      ],
      "metadata": {
        "id": "TCfPvXKLyE7I"
      }
    },
    {
      "cell_type": "code",
      "source": [
        "def reducer2(doc_word_counts, total_docs):\n",
        "    tf_idf_scores = {}\n",
        "    for word, doc_counts in word_doc_freq.items():\n",
        "        idf = math.log(total_docs / len(doc_counts))\n",
        "        for doc_id, count in doc_counts:\n",
        "            tf_idf_scores[(doc_id, word)] = count * idf\n",
        "    return tf_idf_scores"
      ],
      "metadata": {
        "id": "BJ8H0ZGxyKus"
      },
      "execution_count": 29,
      "outputs": []
    },
    {
      "cell_type": "markdown",
      "source": [
        "## Execute the MapReduce tasks"
      ],
      "metadata": {
        "id": "u598VANo0tm4"
      }
    },
    {
      "cell_type": "code",
      "source": [
        "word_doc_counts = mapper1(data)\n",
        "word_doc_freq = reducer1(word_doc_counts)\n",
        "doc_word_counts = mapper2(word_doc_freq)\n",
        "total_docs = len(data)\n",
        "tf_idf_scores = reducer2(word_doc_freq, total_docs)"
      ],
      "metadata": {
        "id": "NoAyvG0Ly6rU"
      },
      "execution_count": 30,
      "outputs": []
    },
    {
      "cell_type": "markdown",
      "source": [
        "# Print the results"
      ],
      "metadata": {
        "id": "dMym5IpB03BJ"
      }
    },
    {
      "cell_type": "code",
      "source": [
        "for (doc_id, word), tf_idf in tf_idf_scores.items():\n",
        "    print(f\"Document ID: {doc_id}, Word: {word}, TF-IDF Score: {tf_idf}\")"
      ],
      "metadata": {
        "id": "EAuRDMXoy7Z0",
        "outputId": "9cacacf2-3887-4b1c-81fa-16f106ce8dde",
        "colab": {
          "base_uri": "https://localhost:8080/"
        }
      },
      "execution_count": 31,
      "outputs": [
        {
          "output_type": "stream",
          "name": "stdout",
          "text": [
            "Document ID: 1, Word: i, TF-IDF Score: 0.4054651081081644\n",
            "Document ID: 2, Word: i, TF-IDF Score: 0.4054651081081644\n",
            "Document ID: 1, Word: love, TF-IDF Score: 1.0986122886681098\n",
            "Document ID: 1, Word: dogs, TF-IDF Score: 0.4054651081081644\n",
            "Document ID: 2, Word: dogs, TF-IDF Score: 0.4054651081081644\n",
            "Document ID: 2, Word: hate, TF-IDF Score: 1.0986122886681098\n",
            "Document ID: 2, Word: and, TF-IDF Score: 0.4054651081081644\n",
            "Document ID: 3, Word: and, TF-IDF Score: 0.4054651081081644\n",
            "Document ID: 2, Word: knitting, TF-IDF Score: 0.4054651081081644\n",
            "Document ID: 3, Word: knitting, TF-IDF Score: 0.4054651081081644\n",
            "Document ID: 3, Word: is, TF-IDF Score: 1.0986122886681098\n",
            "Document ID: 3, Word: my, TF-IDF Score: 2.1972245773362196\n",
            "Document ID: 3, Word: hobby, TF-IDF Score: 1.0986122886681098\n",
            "Document ID: 3, Word: passion, TF-IDF Score: 1.0986122886681098\n"
          ]
        }
      ]
    }
  ]
}