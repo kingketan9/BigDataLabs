{
  "nbformat": 4,
  "nbformat_minor": 0,
  "metadata": {
    "colab": {
      "provenance": [],
      "include_colab_link": true
    },
    "kernelspec": {
      "name": "python3",
      "display_name": "Python 3"
    },
    "language_info": {
      "name": "python"
    }
  },
  "cells": [
    {
      "cell_type": "markdown",
      "metadata": {
        "id": "view-in-github",
        "colab_type": "text"
      },
      "source": [
        "<a href=\"https://colab.research.google.com/github/kingketan9/BigDataLabs/blob/main/Lab2.ipynb\" target=\"_parent\"><img src=\"https://colab.research.google.com/assets/colab-badge.svg\" alt=\"Open In Colab\"/></a>"
      ]
    },
    {
      "cell_type": "code",
      "source": [
        "!pip install pyspark"
      ],
      "metadata": {
        "colab": {
          "base_uri": "https://localhost:8080/"
        },
        "id": "cDs3Bg2m6ZWL",
        "outputId": "c803ac4d-6cbd-4bf6-fd00-c606f1b952f4"
      },
      "execution_count": null,
      "outputs": [
        {
          "output_type": "stream",
          "name": "stdout",
          "text": [
            "Requirement already satisfied: pyspark in /usr/local/lib/python3.10/dist-packages (3.4.1)\n",
            "Requirement already satisfied: py4j==0.10.9.7 in /usr/local/lib/python3.10/dist-packages (from pyspark) (0.10.9.7)\n"
          ]
        }
      ]
    },
    {
      "cell_type": "code",
      "source": [
        "from pyspark.sql import SparkSession"
      ],
      "metadata": {
        "id": "fsPSaL_28QPC"
      },
      "execution_count": null,
      "outputs": []
    },
    {
      "cell_type": "code",
      "source": [
        "spark = SparkSession.builder.master(\"local[*]\").getOrCreate()"
      ],
      "metadata": {
        "id": "9VJn1Lrm8SQI"
      },
      "execution_count": null,
      "outputs": []
    },
    {
      "cell_type": "code",
      "source": [
        "spark"
      ],
      "metadata": {
        "colab": {
          "base_uri": "https://localhost:8080/",
          "height": 219
        },
        "id": "SmM6PbWJ8cwT",
        "outputId": "5ce78418-623d-4c4b-a19a-7e3ba38ba332"
      },
      "execution_count": null,
      "outputs": [
        {
          "output_type": "execute_result",
          "data": {
            "text/plain": [
              "<pyspark.sql.session.SparkSession at 0x7cac12f67f10>"
            ],
            "text/html": [
              "\n",
              "            <div>\n",
              "                <p><b>SparkSession - in-memory</b></p>\n",
              "                \n",
              "        <div>\n",
              "            <p><b>SparkContext</b></p>\n",
              "\n",
              "            <p><a href=\"http://0437d410c84e:4040\">Spark UI</a></p>\n",
              "\n",
              "            <dl>\n",
              "              <dt>Version</dt>\n",
              "                <dd><code>v3.4.1</code></dd>\n",
              "              <dt>Master</dt>\n",
              "                <dd><code>local[*]</code></dd>\n",
              "              <dt>AppName</dt>\n",
              "                <dd><code>pyspark-shell</code></dd>\n",
              "            </dl>\n",
              "        </div>\n",
              "        \n",
              "            </div>\n",
              "        "
            ]
          },
          "metadata": {},
          "execution_count": 30
        }
      ]
    },
    {
      "cell_type": "code",
      "source": [
        "sc = spark.sparkContext"
      ],
      "metadata": {
        "id": "1_QVcfaL8fjr"
      },
      "execution_count": null,
      "outputs": []
    },
    {
      "cell_type": "markdown",
      "source": [
        "1. Create and print an RDD from the list: [1, 5, 9, 4, 7, 2]"
      ],
      "metadata": {
        "id": "kbnpyWou-BNZ"
      }
    },
    {
      "cell_type": "code",
      "source": [
        "data_list = [1, 5, 9, 4, 7, 2]\n",
        "rdd = sc.parallelize(data_list)\n",
        "\n",
        "\n",
        "print(rdd.collect())"
      ],
      "metadata": {
        "id": "Q4dECkepblB0",
        "outputId": "6d7922a9-1435-496c-cc64-2e4e1f396569",
        "colab": {
          "base_uri": "https://localhost:8080/"
        }
      },
      "execution_count": null,
      "outputs": [
        {
          "output_type": "stream",
          "name": "stdout",
          "text": [
            "[1, 5, 9, 4, 7, 2]\n"
          ]
        }
      ]
    },
    {
      "cell_type": "markdown",
      "source": [
        "2. Print the sum of squares of the above RDD."
      ],
      "metadata": {
        "id": "zmaX3QhS-DS7"
      }
    },
    {
      "cell_type": "code",
      "source": [
        "data_list = [1, 5, 9, 4, 7, 2]\n",
        "rdd = sc.parallelize(data_list)\n",
        "\n",
        "sum_of_squares = rdd.map(lambda x: x**2).reduce(lambda x, y: x + y)\n",
        "\n",
        "print(\"Sum of squares:\", sum_of_squares)"
      ],
      "metadata": {
        "id": "MeLHazLGbtrN",
        "outputId": "974641c3-49c9-4775-fd2d-8b7d2dced9ec",
        "colab": {
          "base_uri": "https://localhost:8080/"
        }
      },
      "execution_count": null,
      "outputs": [
        {
          "output_type": "stream",
          "name": "stdout",
          "text": [
            "Sum of squares: 176\n"
          ]
        }
      ]
    },
    {
      "cell_type": "markdown",
      "source": [
        "3. Consider the RDD = [3, 5, 6]. Using RDD transformations print the following: [2, 2, 3, 4, 2, 3, 4, 5]"
      ],
      "metadata": {
        "id": "Cn2Jwn3a-F5f"
      }
    },
    {
      "cell_type": "code",
      "source": [
        "data_list = [3,5,6]\n",
        "rdd = sc.parallelize(data_list)\n",
        "\n",
        "result = rdd.flatMap(lambda x: (i for i in range(2,x)))\n",
        "print(result.collect())"
      ],
      "metadata": {
        "id": "ePNFlzXIb-7o",
        "outputId": "f2e438a5-5446-46ae-fbf5-d8a9716fd9e2",
        "colab": {
          "base_uri": "https://localhost:8080/"
        }
      },
      "execution_count": null,
      "outputs": [
        {
          "output_type": "stream",
          "name": "stdout",
          "text": [
            "[2, 2, 3, 4, 2, 3, 4, 5]\n"
          ]
        }
      ]
    },
    {
      "cell_type": "markdown",
      "source": [
        "4. Consider the RDD [(1,1), (4,7), (1,2), (3,-5), (1,4)]. Using RDD transformations print the following: [(4, [7]), (1, [1, 2, 4]), (3, [-5])]"
      ],
      "metadata": {
        "id": "S-iL_wd_-Ie-"
      }
    },
    {
      "cell_type": "code",
      "source": [
        "data_list = [(1, 1), (4, 7), (1, 2), (3, -5), (1, 4)]\n",
        "rdd = sc.parallelize(data_list)\n",
        "\n",
        "grouped_rdd = rdd.groupByKey()\n",
        "\n",
        "result_rdd = grouped_rdd.map(lambda x: (x[0], list(x[1])))\n",
        "\n",
        "result_list = result_rdd.collect()\n",
        "print(result_list)"
      ],
      "metadata": {
        "id": "B7Auk_S3TKEx",
        "outputId": "fed8d49d-ef10-4b9c-f73b-622f5f73c79a",
        "colab": {
          "base_uri": "https://localhost:8080/"
        }
      },
      "execution_count": null,
      "outputs": [
        {
          "output_type": "stream",
          "name": "stdout",
          "text": [
            "[(4, [7]), (1, [1, 2, 4]), (3, [-5])]\n"
          ]
        }
      ]
    },
    {
      "cell_type": "markdown",
      "source": [
        " 5. Repeat the TF-IDF exercise with RDD transformations."
      ],
      "metadata": {
        "id": "LSSxclpo-Lf_"
      }
    },
    {
      "cell_type": "code",
      "source": [
        "from math import log\n",
        "\n",
        "data_rdd = sc.parallelize([(1, 1), (4, 7), (1, 2), (3, -5), (1, 4)])\n",
        "\n",
        "document_freq_rdd = data_rdd.map(lambda x: (x[0], 1)) \\\n",
        "                            .reduceByKey(lambda x, y: x + y)\n",
        "\n",
        "total_docs = data_rdd.map(lambda x: x[0]).distinct().count()\n",
        "idf_rdd = document_freq_rdd.map(lambda x: (x[0], log(total_docs / x[1])))\n",
        "\n",
        "tfidf_rdd = data_rdd.join(idf_rdd) \\\n",
        "                   .map(lambda x: (x[0], x[1][0] * x[1][1]))\n",
        "\n",
        "tfidf_list = tfidf_rdd.collect()\n",
        "for doc_id, tfidf in tfidf_list:\n",
        "    print(f\"Document {doc_id} TF-IDF: {tfidf:.4f}\")"
      ],
      "metadata": {
        "id": "qrI0yEEB_pNM",
        "outputId": "5664fe8c-3aca-40d7-f937-bcc5447d54f4",
        "colab": {
          "base_uri": "https://localhost:8080/"
        }
      },
      "execution_count": null,
      "outputs": [
        {
          "output_type": "stream",
          "name": "stdout",
          "text": [
            "Document 4 TF-IDF: 7.6903\n",
            "Document 1 TF-IDF: 0.0000\n",
            "Document 1 TF-IDF: 0.0000\n",
            "Document 1 TF-IDF: 0.0000\n",
            "Document 3 TF-IDF: -5.4931\n"
          ]
        }
      ]
    }
  ]
}